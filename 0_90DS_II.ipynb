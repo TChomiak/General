{
 "cells": [
  {
   "cell_type": "markdown",
   "id": "7fcc011b-2028-4105-8913-1737a7972c40",
   "metadata": {},
   "source": [
    "# Generate 90-Day Containers Spreadsheet"
   ]
  },
  {
   "cell_type": "code",
   "execution_count": 1,
   "id": "63c81c65-6161-4bdc-a3aa-97fd2054dc13",
   "metadata": {},
   "outputs": [],
   "source": [
    "# Previous Week\n",
    "file_previous_week = '2024_12_23_90DS_TC.xlsx'\n",
    "\n",
    "# Current Week\n",
    "file_current_week = '2024_01_06_90DS_TC.xlsx'"
   ]
  },
  {
   "cell_type": "markdown",
   "id": "46f6255a-ff2f-4638-8736-62f8a357d60b",
   "metadata": {},
   "source": [
    "### Prepare the Notebook"
   ]
  },
  {
   "cell_type": "code",
   "execution_count": 2,
   "id": "559b08d8-8d4c-4add-8c5c-f42f2a933ad1",
   "metadata": {},
   "outputs": [],
   "source": [
    "from Notebook_Utilities import *"
   ]
  },
  {
   "cell_type": "markdown",
   "id": "be0fa8c8-05e4-4e95-bfee-562c86a676cc",
   "metadata": {},
   "source": [
    "### Import/Clean Data"
   ]
  },
  {
   "cell_type": "markdown",
   "id": "10fcf6ef-bfad-454a-a25f-4344089877fd",
   "metadata": {},
   "source": [
    "##### Historical Data (Shipments)"
   ]
  },
  {
   "cell_type": "code",
   "execution_count": 3,
   "id": "13328495-e1ad-4b25-b37c-70ebea8d089e",
   "metadata": {},
   "outputs": [
    {
     "name": "stdout",
     "output_type": "stream",
     "text": [
      "\n",
      "df1 Shape: (44, 12)\n"
     ]
    }
   ],
   "source": [
    "# Import BPO (ACT) Dataset\n",
    "df1 = load_and_clean_data('0_CY2024_Waste_Streams_0.xlsx', 'BPO')\n",
    "\n",
    "# Ensure the column is treated as strings/text\n",
    "df1['WIWPS_ID'] = df1['WIWPS_ID'].astype(str).str.strip()\n",
    "df1['WIWPS_Name'] = df1['WIWPS_Name'].astype(str).str.strip()\n",
    "# Ensure the column is treated as strings/text and remove \".0\"\n",
    "df1['TSDF_ID'] = df1['TSDF_ID'].astype(str).str.strip().str.replace(r'\\.0$', '', regex=True)\n",
    "df1['ACT_ID'] = df1['ACT_ID'].astype(str).str.strip().str.replace(r'\\.0$', '', regex=True)\n",
    "df1['DOT_Class'] = df1['DOT_Class'].astype(str).str.strip().str.replace(r'\\.0$', '', regex=True)\n",
    "\n",
    "# Show the shape and column names\n",
    "print('\\ndf1 Shape:', df1.shape)"
   ]
  },
  {
   "cell_type": "markdown",
   "id": "5bfe2401-d2ad-416c-a608-e64d6bde81ac",
   "metadata": {},
   "source": [
    "##### Historical Data (WIWPS_ID)"
   ]
  },
  {
   "cell_type": "code",
   "execution_count": 4,
   "id": "d568cd18-9336-4387-afc1-d9ddd67726e6",
   "metadata": {},
   "outputs": [
    {
     "name": "stdout",
     "output_type": "stream",
     "text": [
      "\n",
      "df0 Shape: (1822, 7)\n"
     ]
    }
   ],
   "source": [
    "# Import BPO (ACT) Dataset\n",
    "df0 = load_and_clean_data('0_CY2024_Waste_Streams_0.xlsx', 'WIWPS')\n",
    "\n",
    "# Ensure the column is treated as strings/text\n",
    "df0['WIWPS_ID'] = df0['WIWPS_ID'].astype(str).str.strip()\n",
    "df0['WIWPS_Name'] = df0['WIWPS_Name'].astype(str).str.strip()\n",
    "\n",
    "# Show the shape and column names\n",
    "print('\\ndf0 Shape:', df0.shape)"
   ]
  },
  {
   "cell_type": "markdown",
   "id": "7b8ae07f-1638-429d-80ca-97a9615c6794",
   "metadata": {},
   "source": [
    "##### Real-Time Data (90DS)"
   ]
  },
  {
   "cell_type": "markdown",
   "id": "2a474363-6b37-44df-bf99-df4a81e55338",
   "metadata": {},
   "source": [
    "> - Open COS > Containers > New/Edit > Send to Excel > 90 Day Field > \"90Day_data.xlsx\""
   ]
  },
  {
   "cell_type": "code",
   "execution_count": 5,
   "id": "f51c7ebb-3045-49ca-944a-81a9ea5a58b8",
   "metadata": {},
   "outputs": [
    {
     "name": "stdout",
     "output_type": "stream",
     "text": [
      "\n",
      "90DS Shape: (69, 11)\n"
     ]
    },
    {
     "data": {
      "text/plain": [
       "Index(['Container_ID', 'ASD_90', 'ASD_0', 'Drum_Name', 'Location', 'Site_ID',\n",
       "       'WAC', 'Contents', 'Parameter', 'WIWPS_ID', 'Package_ID'],\n",
       "      dtype='object')"
      ]
     },
     "execution_count": 5,
     "metadata": {},
     "output_type": "execute_result"
    }
   ],
   "source": [
    "# Import Data\n",
    "df2 = load_and_clean_data('90Day_data.xlsx', 'Sheet')\n",
    "\n",
    "# Replace Column Names\n",
    "df2['WAC'].replace([\"Karina Tovar\", \"Timothy Ryan Chomiak\"], \"Angel Quintero\", inplace=True)\n",
    "\n",
    "# Dictionary for clarity: Original column -> New column\n",
    "column_mapping = {\n",
    "    'Container': 'Container_ID',\n",
    "    '90th_Day': 'ASD_90',\n",
    "    'ASD': 'ASD_0',\n",
    "    'Name': 'WIWPS_Name',\n",
    "    'WIWPS': 'WIWPS_ID',\n",
    "    'Package': 'Package_ID'\n",
    "    # Add remaining mappings if necessary\n",
    "}\n",
    "\n",
    "# Rename columns using the mapping\n",
    "df2.rename(columns=column_mapping, inplace=True)\n",
    "\n",
    "# Show the shape and column names\n",
    "print('\\n90DS Shape:', df2.shape)\n",
    "\n",
    "# Show Columns\n",
    "df2.columns"
   ]
  },
  {
   "cell_type": "markdown",
   "id": "d32424d6-6ba5-4552-8ff0-18c2cc14277b",
   "metadata": {},
   "source": [
    "### Add Columns"
   ]
  },
  {
   "cell_type": "markdown",
   "id": "430fb5ce-f9af-4ee7-9670-304be2bcc904",
   "metadata": {},
   "source": [
    "##### Connecting WIWPS_ID to WIWPS_Name"
   ]
  },
  {
   "cell_type": "code",
   "execution_count": 6,
   "id": "f8474ef7-d6b6-4510-bd37-16f0f2c3853e",
   "metadata": {},
   "outputs": [],
   "source": [
    "# Connecting WIWPS to Shipping Information\n",
    "def map_and_add_columns_with_multiple_matches(\n",
    "    df_1, df_2, column_to_map, mapping_column, columns_to_add, match_values=None, delimiter_pattern=r\"[,\\s]+\"\n",
    "):\n",
    "    \"\"\"\n",
    "    Matches single or multiple entries in df_2[column_to_map] against multiple entries in df_1[mapping_column],\n",
    "    and pulls specific columns from df_1 into df_2 while preserving df_2's rows.\n",
    "\n",
    "    Parameters:\n",
    "        df_1 (pd.DataFrame): The source DataFrame containing rows to pull columns from.\n",
    "        df_2 (pd.DataFrame): The target DataFrame where new columns will be added.\n",
    "        column_to_map (str): Column in df_2 to match against df_1[mapping_column].\n",
    "        mapping_column (str): Column in df_1 containing single or multiple comma-separated entries.\n",
    "        columns_to_add (list): List of column names from df_1 to add to df_2.\n",
    "        match_values (list, optional): A list of values in df_2[column_to_map] to match.\n",
    "        delimiter_pattern (str): Regex pattern to split multiple entries in df_1.\n",
    "\n",
    "    Returns:\n",
    "        pd.DataFrame: The updated df_2 with specified columns added.\n",
    "    \"\"\"\n",
    "    # Preprocess df_1 to split mapping_column into multiple rows for matching\n",
    "    expanded_df_1 = (\n",
    "        df_1.assign(Expanded_ID=df_1[mapping_column].str.split(delimiter_pattern))\n",
    "        .explode(\"Expanded_ID\")\n",
    "        .dropna(subset=[\"Expanded_ID\"])\n",
    "    )\n",
    "    expanded_df_1[\"Expanded_ID\"] = expanded_df_1[\"Expanded_ID\"].str.strip()\n",
    "\n",
    "    # Create a mapping dictionary for each column to add\n",
    "    mapping_dicts = {\n",
    "        col: expanded_df_1.set_index(\"Expanded_ID\")[col].to_dict() for col in columns_to_add\n",
    "    }\n",
    "\n",
    "    # Filter df_2 based on match_values if provided\n",
    "    if match_values:\n",
    "        df_2 = df_2[df_2[column_to_map].isin(match_values)]\n",
    "\n",
    "    # Add new columns to df_2\n",
    "    for col in columns_to_add:\n",
    "        df_2[col] = df_2[column_to_map].map(mapping_dicts[col]).fillna(\"NA\")\n",
    "\n",
    "    return df_2"
   ]
  },
  {
   "cell_type": "markdown",
   "id": "bab82b4e-e718-47a0-bb75-b0bb45fc32b9",
   "metadata": {},
   "source": [
    "##### Connecting WIWPS_ID to WIWPS_Name"
   ]
  },
  {
   "cell_type": "code",
   "execution_count": 7,
   "id": "e8722bc1-acef-4f5e-bddf-65c5dd4f3188",
   "metadata": {},
   "outputs": [],
   "source": [
    "# Drop existing WIWPS_Name column in df2 if it exists\n",
    "if \"WIWPS_Name\" in df2.columns:\n",
    "    df2.drop(columns=[\"WIWPS_Name\"], inplace=True)\n",
    "\n",
    "# Columns to pull from df_1 and add to df_2\n",
    "columns_to_add=['WIWPS_Name']\n",
    "\n",
    "# Apply Function\n",
    "df2 = map_and_add_columns_with_multiple_matches(\n",
    "    df0, # Historical DataFrame                  \n",
    "    df2, # New DataFrame (90DS)\n",
    "    column_to_map=\"WIWPS_ID\", # Column in df_2 to match against df_1\n",
    "    mapping_column=\"WIWPS_ID\", # Dynamic creation of mapping dictionary\n",
    "    columns_to_add=columns_to_add,\n",
    "    delimiter_pattern=r\"[,\\s]+\"\n",
    ")"
   ]
  },
  {
   "cell_type": "markdown",
   "id": "27ece5b8-6ba9-400f-b1c6-4a6506ceaa9b",
   "metadata": {},
   "source": [
    "##### Connecting WIWPS_ID to Shipping Information Columns"
   ]
  },
  {
   "cell_type": "code",
   "execution_count": 8,
   "id": "093c47fe-dc22-4ab3-8240-27e58956ff01",
   "metadata": {},
   "outputs": [],
   "source": [
    "# Columns to pull from df_1 and add to df_2\n",
    "columns_to_add=[\n",
    "    \"PO\", \"Waste_Type\", \"TSDF\", \"Group\", \n",
    "    \"Shipping_Name\",\"TSDF_ID\", \"ACT_ID\", \n",
    "    \"DOT_Name\", \"DOT_Class\", \"EPA_Waste_Code\"]\n",
    "\n",
    "# Apply Function\n",
    "df3 = map_and_add_columns_with_multiple_matches(\n",
    "    df1, # Historical DataFrame                  \n",
    "    df2, # New DataFrame\n",
    "    column_to_map=\"WIWPS_ID\", # Column in df_2 to match against df_1\n",
    "    mapping_column=\"WIWPS_ID\", # Dynamic creation of mapping dictionary\n",
    "    columns_to_add=columns_to_add,\n",
    "    delimiter_pattern=r\"[,\\s]+\"\n",
    ")"
   ]
  },
  {
   "cell_type": "code",
   "execution_count": 9,
   "id": "6ab97a4c-7f1d-4e91-b2fa-4229b3313ddb",
   "metadata": {},
   "outputs": [
    {
     "name": "stdout",
     "output_type": "stream",
     "text": [
      "\n",
      "df2: (69, 22)\n",
      "\n",
      "df3: Index(['Container_ID', 'ASD_90', 'ASD_0', 'Drum_Name', 'Location', 'Site_ID',\n",
      "       'WAC', 'Contents', 'Parameter', 'WIWPS_ID', 'Package_ID', 'WIWPS_Name',\n",
      "       'PO', 'Waste_Type', 'TSDF', 'Group', 'Shipping_Name', 'TSDF_ID',\n",
      "       'ACT_ID', 'DOT_Name', 'DOT_Class', 'EPA_Waste_Code'],\n",
      "      dtype='object')\n"
     ]
    }
   ],
   "source": [
    "print('\\ndf2:', df2.shape)\n",
    "print('\\ndf3:', df3.columns)"
   ]
  },
  {
   "cell_type": "markdown",
   "id": "694c160f-324d-4ce6-81c7-b710fd1c198c",
   "metadata": {},
   "source": [
    "##### Create additional Map to Account for Additional Waste Streams"
   ]
  },
  {
   "cell_type": "code",
   "execution_count": 10,
   "id": "636686c4-7208-46f8-9572-a5fc8ca2d341",
   "metadata": {},
   "outputs": [],
   "source": [
    "def populate_missing_columns(df, match_column, match_values, fill_defaults):\n",
    "    \"\"\"\n",
    "    Populates missing or default values for specific rows in a DataFrame based on a match condition.\n",
    "\n",
    "    Parameters:\n",
    "        df (pd.DataFrame): The target DataFrame where values will be updated.\n",
    "        match_column (str): Column name in `df` to match specific values.\n",
    "        match_values (list): List of values in `match_column` to apply the defaults.\n",
    "        fill_defaults (dict): Dictionary where keys are column names and values are default values.\n",
    "\n",
    "    Returns:\n",
    "        pd.DataFrame: The updated DataFrame with missing columns populated for matched rows.\n",
    "    \"\"\"\n",
    "    # Ensure all columns in fill_defaults exist in df\n",
    "    for col in fill_defaults.keys():\n",
    "        if col not in df.columns:\n",
    "            df[col] = None  # Add column if not present\n",
    "    \n",
    "    # Apply default values to matched rows\n",
    "    for value in match_values:\n",
    "        match_condition = df[match_column] == value\n",
    "        for col, default_value in fill_defaults.items():\n",
    "            df.loc[match_condition, col] = default_value\n",
    "    \n",
    "    return df"
   ]
  },
  {
   "cell_type": "code",
   "execution_count": 11,
   "id": "3c57be00-72d2-42c9-be57-079647d9e8f9",
   "metadata": {},
   "outputs": [],
   "source": [
    "# Defaults for missing columns @ WIWPS_ID = '30-07-16', \n",
    "fill_defaults = {\n",
    "    'Waste_Type': 'Solid Waste',\n",
    "    'TSDF': 'Landfill',\n",
    "    'Group': 'Solid Waste',\n",
    "    'Shipping_Name': 'Solid Waste',\n",
    "    'TSDF_ID': 'TBD',\n",
    "    'ACT_ID': 'NA',\n",
    "    'DOT_Name': 'NA',\n",
    "    'DOT_Class': 'None',\n",
    "    'EPA_Waste_Code': 'NA'\n",
    "}\n",
    "\n",
    "# Apply the function to populate missing columns\n",
    "df3 = populate_missing_columns(\n",
    "    df=df3,\n",
    "    match_column='WIWPS_ID', \n",
    "    match_values=['30-07-16', '40-04-22'],\n",
    "    fill_defaults=fill_defaults # Information not found in the Mastersheet\n",
    ")"
   ]
  },
  {
   "cell_type": "markdown",
   "id": "d00995f9-3328-41a5-9971-17f4627808fc",
   "metadata": {
    "jp-MarkdownHeadingCollapsed": true
   },
   "source": [
    "##### Add Columns for Container Information "
   ]
  },
  {
   "cell_type": "code",
   "execution_count": 12,
   "id": "63473cd5-29cf-44d2-a974-31f2d21e41c2",
   "metadata": {},
   "outputs": [],
   "source": [
    "# Add new empty columns (None, np.nan, '')\n",
    "df3['Container_Type'] = None\n",
    "df3['Container_Size'] = None\n",
    "df3['Container_Qty'] = np.nan\n",
    "df3['Container_Mass'] = np.nan\n",
    "df3['Container_Cost'] = np.nan\n",
    "df3['Manifest_ID'] = None\n",
    "df3['Line_Item'] = None"
   ]
  },
  {
   "cell_type": "markdown",
   "id": "b1947637-0ac1-4639-8012-34753f8e90c2",
   "metadata": {
    "jp-MarkdownHeadingCollapsed": true
   },
   "source": [
    "##### Connecting WIWPS_ID/Container_ID to Periodic Milk Run Consolidation\n",
    "\n",
    "> - Add a new Column, \"MR\"<br>\n",
    "> - If WIWPS_ID or Container_ID is present, then add a \"Yes\" to Column (\"MR\") <br>\n",
    "> - If WIWPS_ID or Container_ID is NOT present, then add a \"No\" to Column (\"MR\")"
   ]
  },
  {
   "cell_type": "code",
   "execution_count": 13,
   "id": "b49a316c-6384-4a38-a0cf-4e6244cdc214",
   "metadata": {},
   "outputs": [],
   "source": [
    "# WIWPS\n",
    "Milk_Run_WIWIPS = ['20-01-24', # Ox Contaminated Debris\n",
    "                   '20-01-25', # Fuel Contaminated Debris\n",
    "                   '20-04-16', # Ox Contaminated Debris/ Water\n",
    "                   '20-04-18', # Fuel Contaminated Debris/ Water\n",
    "                   '20-19-06', # Fuel Contaminated Debris (Non-Haz)\n",
    "                   '20-19-07', # Ox Contaminated Debris (Non-Haz)\n",
    "                   '30-01-08', # Fuel Contaminated Debris\n",
    "                   '30-01-30', # Ox Contaminated Debris\n",
    "                   #'30-01-53', #\n",
    "                   '40-01-08', # Fuel Contaminated Debris\n",
    "                   '40-01-28', # Ox Contaminated Debris\n",
    "                   '50-02-05', # Fuel Contaminated Debris\n",
    "                   '50-20-01', # Fuel Contaminated Debris\n",
    "                   '60-01-02', # IDW Contaminated Debris\n",
    "                   '60-02-02', # IDW Contaminated Debris (SAA)\n",
    "                   '80-02-08', # Ox Contaminated Debris\n",
    "                   '80-02-09'  # Fuel Contaminated Debris\n",
    "                  ]\n",
    "\n",
    "# Containers\n",
    "Milk_Run_Containers = [2424, # Ox Contaminated Debris\n",
    "                       2425, # Fuel Contaminated Debris\n",
    "                       10721, # Ox Contaminated Debris/ Water\n",
    "                       10129, # Fuel Contaminated Debris/ Water\n",
    "                       361, # Fuel Contaminated Debris (Non-Haz)\n",
    "                       4187, # Ox Contaminated Debris (Non-Haz)\n",
    "                       9327, # Fuel Contaminated Debris\n",
    "                       2138, # Ox Contaminated Debris\n",
    "                       #'30-01-53', #\n",
    "                       4848, # Fuel Contaminated Debris\n",
    "                       2139, # Ox Contaminated Debris\n",
    "                       6955, # Fuel Contaminated Debris\n",
    "                       2950, # Fuel Contaminated Debris\n",
    "                       6320, # IDW Contaminated Debris\n",
    "                       6814, # IDW Contaminated Debris (SAA)\n",
    "                       67, # Ox Contaminated Debris\n",
    "                       68  # Fuel Contaminated Debris\n",
    "                      ]\n",
    "\n",
    "# Define a function to map 'Container' values to 'MR'\n",
    "def map_mrc(container):\n",
    "    if container in Milk_Run_Containers:\n",
    "        return \"Yes\"\n",
    "    else:\n",
    "        return \"No\"\n",
    "\n",
    "# Apply the function to create the 'MR' column\n",
    "df2['MR'] = df2['Container_ID'].apply(map_mrc)"
   ]
  },
  {
   "cell_type": "markdown",
   "id": "5f694cab-e177-49f8-99a0-6c5316912cea",
   "metadata": {
    "jp-MarkdownHeadingCollapsed": true
   },
   "source": [
    "##### Monthly Shipping Containers\n",
    "- Define a function to map 'Container Number' values to the shipping package, 'Package_ID'"
   ]
  },
  {
   "cell_type": "code",
   "execution_count": 14,
   "id": "a4399538-9f3d-4036-83e8-e90951747c09",
   "metadata": {},
   "outputs": [],
   "source": [
    "# Define a dictionary mapping container numbers to package IDs\n",
    "container_to_package = {\n",
    "    **dict.fromkeys([11177, 10819, 10821, 10822, 11219], \"25004\"), # Universal Waste\n",
    "    **dict.fromkeys([9869, 10953], \"25002\"), # LDR \n",
    "    **dict.fromkeys([11108, 11085, 11192, 11044, 11109, 11173, 10548, 11260, 10979, 11194, 11236, 10514, 10515, 10516, 10296], \"25001\"), # Lab Pack \n",
    "    **dict.fromkeys([11096, 11193, 11133, 11162, 9217], \"25005\"), # Lab Pack\n",
    "}\n",
    "\n",
    "# Define the mapping function\n",
    "def map_package(container):\n",
    "    return container_to_package.get(container, \"NA\")\n",
    "\n",
    "# Apply the function to create the 'Package_ID' column\n",
    "df3['Package_ID'] = df3['Container_ID'].apply(map_package)"
   ]
  },
  {
   "cell_type": "code",
   "execution_count": 15,
   "id": "1434fc46-bbe0-426f-b389-a5a2ef811a4c",
   "metadata": {},
   "outputs": [],
   "source": [
    "# Define a dictionary mapping container numbers to package IDs\n",
    "container_to_tsdf = {\n",
    "    **dict.fromkeys([11177, 10819, 10821, 10822, 11219], \"Veolia Environmental Services\"), # Universal Waste\n",
    "    **dict.fromkeys([9869, 10953], \"US Ecology Nevada Inc.\"), # LDR \n",
    "    **dict.fromkeys([11108, 11085, 11192, 11044, 11109, 11173, 10548, 11260, 10979, 11194, 11236, 10514, 10515, 10516, 10296], \"Veolia ES Technical Solutions LLC.\"), # Lab Pack \n",
    "    **dict.fromkeys([11096, 11193, 11133, 11162, 9217], \"Veolia ES Technical Solutions LLC.\"), # Lab Pack\n",
    "}\n",
    "\n",
    "# Define the mapping function\n",
    "def map_package(container):\n",
    "    return container_to_tsdf.get(container, \"NA\")\n",
    "\n",
    "# Apply the function to create the 'Package_ID' column\n",
    "df3['TSDF'] = df3['Container_ID'].apply(map_package)"
   ]
  },
  {
   "cell_type": "markdown",
   "id": "aa67f639-3240-4f2d-891d-dc66b57a1568",
   "metadata": {
    "jp-MarkdownHeadingCollapsed": true
   },
   "source": [
    "##### Account for New Containers"
   ]
  },
  {
   "cell_type": "code",
   "execution_count": 16,
   "id": "dcbd0ed5-e2d2-491a-befc-85404a177227",
   "metadata": {},
   "outputs": [
    {
     "name": "stdout",
     "output_type": "stream",
     "text": [
      "90DS Shape: (70, 17)\n"
     ]
    }
   ],
   "source": [
    "# Load df for Previous 90DS\n",
    "previous_week = load_and_clean_data(file_previous_week, 'Sheet1') # Import Data \n",
    "\n",
    "# Replace Column Names\n",
    "previous_week['WAC'].replace([\"Karina Tovar\", \"Timothy Ryan Chomiak\"], \"Angel Quintero\", inplace=True)\n",
    "\n",
    "# Dictionary for clarity: Original column -> New column\n",
    "column_mapping = {\n",
    "    'Container': 'Container_ID',\n",
    "    '90th_Day': 'ASD_90',\n",
    "    'ASD': 'ASD_0',\n",
    "    'Name': 'WIWPS_Name',\n",
    "    'WIWPS': 'WIWPS_ID',\n",
    "    'Package': 'Package_ID'\n",
    "    # Add remaining mappings if necessary\n",
    "}\n",
    "\n",
    "# Rename columns using the mapping\n",
    "previous_week.rename(columns=column_mapping, inplace=True)\n",
    "\n",
    "# Show the shape and column names\n",
    "print('90DS Shape:', previous_week.shape)"
   ]
  },
  {
   "cell_type": "code",
   "execution_count": 17,
   "id": "7e5749ac-2192-48b6-bd58-8146c22d9eb2",
   "metadata": {},
   "outputs": [],
   "source": [
    "# Define the unique identifier\n",
    "key_column = 'Container_ID'  # Replace with the actual column name in your dataset\n",
    "\n",
    "# Add a \"New\" column to indicate if a row is new\n",
    "df3['New'] = df3[key_column].apply(\n",
    "    lambda x: 'Yes' if x not in previous_week[key_column].values else 'No'\n",
    ")\n",
    "\n",
    "# Save the updated current week's data with the \"New\" column\n",
    "#current_week.to_excel(file_current_week, index=False)\n",
    "\n",
    "#print(\"Process complete. Updated file saved with 'New' column.\")"
   ]
  },
  {
   "cell_type": "markdown",
   "id": "4b5eecc0-561a-40ec-b7fb-f0d00483cef6",
   "metadata": {
    "jp-MarkdownHeadingCollapsed": true
   },
   "source": [
    "##### Reorder Columns"
   ]
  },
  {
   "cell_type": "code",
   "execution_count": 18,
   "id": "9eca55f2-ca8c-4c19-b4c3-5c461f87a7cd",
   "metadata": {},
   "outputs": [],
   "source": [
    "# Reorder Columns\n",
    "df3 = df3[[\n",
    "    # Internal\n",
    "    'WAC', 'ASD_90', 'ASD_0', 'New', 'MR', 'Container_ID', \n",
    "    'Group', 'Drum_Name', 'WIWPS_ID', 'WIWPS_Name',\n",
    "    # Staging\n",
    "    'Shipping_Name', 'TSDF_ID', 'ACT_ID', 'DOT_Name', 'DOT_Class', 'EPA_Waste_Code',\n",
    "    'Container_Type', 'Container_Size', 'Container_Qty', 'Container_Mass', 'Container_Cost',\n",
    "    'PO', 'Waste_Type', 'Package_ID', 'Manifest_ID', 'TSDF',\n",
    "    # Internal\n",
    "    'Location', 'Site_ID', 'Contents', 'Parameter', 'Line_Item'\n",
    "          ]]"
   ]
  },
  {
   "cell_type": "markdown",
   "id": "569059f7-cce6-4158-889c-2921aa807bd1",
   "metadata": {},
   "source": [
    "##### Format Date Columns"
   ]
  },
  {
   "cell_type": "code",
   "execution_count": 19,
   "id": "deddbe8e-12d5-47f1-ae3c-fc2887868353",
   "metadata": {},
   "outputs": [],
   "source": [
    "# Convert the column to datetime if not already\n",
    "df3['ASD_0'] = pd.to_datetime(df3['ASD_0'], errors='coerce')\n",
    "df3['ASD_90'] = pd.to_datetime(df3['ASD_90'], errors='coerce')\n",
    "\n",
    "# Format the column to show only the date\n",
    "df3['ASD_0'] = df3['ASD_0'].dt.strftime('%m/%d/%Y')  # Adjust format as needed\n",
    "df3['ASD_90'] = df3['ASD_90'].dt.strftime('%m/%d/%Y')  # Adjust format as needed"
   ]
  },
  {
   "cell_type": "markdown",
   "id": "bb606dc1-d353-429b-a60e-ce683632f54a",
   "metadata": {},
   "source": [
    "##### Fill Empty Columns"
   ]
  },
  {
   "cell_type": "code",
   "execution_count": 20,
   "id": "f88a6f4a-678c-46e5-b159-0408041a23be",
   "metadata": {},
   "outputs": [],
   "source": [
    "# Fill blank cells with \"NA\"\n",
    "df3 = df3.fillna(\"TBD\")"
   ]
  },
  {
   "cell_type": "markdown",
   "id": "ecedd2dd-ceb1-44f6-9c92-e84d37a9b35f",
   "metadata": {},
   "source": [
    "##### Omit Non-Hazardous Containers with Contaminated Media"
   ]
  },
  {
   "cell_type": "code",
   "execution_count": 21,
   "id": "9d3671f5-2b7a-4130-9ad3-af23f498c24c",
   "metadata": {},
   "outputs": [],
   "source": [
    "# Save rows where '30-07-16' appears in any cell of the column\n",
    "#removed_rows = df3[df3['WIWPS_ID'].str.contains('30-07-16', na=False)] # df3[df3['WIWPS_ID'] == '30-07-16']\n",
    "# Remove rows where '30-07-16' appears in any cell of the column\n",
    "#df3 = df3[~df3['WIWPS_ID'].str.contains('30-07-16', na=False)] #df3 = df3[df3['WIWPS_ID'] != '30-07-16']\n",
    "\n",
    "# Save rows where either '30-07-16' or '40-04-22' appears in any cell\n",
    "removed_rows = df3[df3['WIWPS_ID'].str.contains('30-07-16|40-04-22', na=False)]\n",
    "\n",
    "# Remove rows where either '30-07-16' or '40-04-22' appears in any cell\n",
    "df3 = df3[~df3['WIWPS_ID'].str.contains('30-07-16|40-04-22', na=False)]"
   ]
  },
  {
   "cell_type": "markdown",
   "id": "9372471b-ac8b-44a2-9745-acd007fb42c6",
   "metadata": {},
   "source": [
    "##### Sort Columns"
   ]
  },
  {
   "cell_type": "code",
   "execution_count": 22,
   "id": "c91bf8d8-c96c-4a88-8f6c-ad338dc8a9b8",
   "metadata": {},
   "outputs": [],
   "source": [
    "# Sort Rows\n",
    "df3 = df3.sort_values(by=['New','MR', 'ASD_0'], ascending=True)"
   ]
  },
  {
   "cell_type": "markdown",
   "id": "a423e90c-8354-4723-916d-7e40957fe1ee",
   "metadata": {},
   "source": [
    "###"
   ]
  },
  {
   "cell_type": "markdown",
   "id": "35bac958-e098-4e5b-b838-43d5b082ae5e",
   "metadata": {},
   "source": [
    "### Save as Excel File"
   ]
  },
  {
   "cell_type": "code",
   "execution_count": 23,
   "id": "f497d2f9-3abe-49b0-b2d1-05bffdaf624f",
   "metadata": {},
   "outputs": [],
   "source": [
    "# Save as Excel File\n",
    "df3.to_excel(file_current_week, index=False)"
   ]
  },
  {
   "cell_type": "markdown",
   "id": "6e8632dd-5c72-4818-9141-38c2679462cf",
   "metadata": {},
   "source": [
    "<br><br>\n",
    "\n",
    "### Stats\n",
    "\n",
    "<br><br>"
   ]
  },
  {
   "cell_type": "markdown",
   "id": "0a7d282d-5a1d-4251-be8a-46205860bb1c",
   "metadata": {},
   "source": [
    "##### Get Earliest 90-Day ASD"
   ]
  },
  {
   "cell_type": "code",
   "execution_count": 24,
   "id": "2c894c7c-ccb0-4b4b-8fd0-d9ba403e849b",
   "metadata": {},
   "outputs": [],
   "source": [
    "# Get the earliest and latest dates\n",
    "earliest_row = df3.loc[df3['ASD_90'].idxmin()]\n",
    "latest_row = df3.loc[df3['ASD_90'].idxmax()]\n",
    "\n",
    "# Combine the rows into a new DataFrame\n",
    "earliest_latest_rows = pd.DataFrame([earliest_row, latest_row])\n"
   ]
  },
  {
   "cell_type": "markdown",
   "id": "db44f3a0-94c8-45a8-960d-cb4438afaa4a",
   "metadata": {},
   "source": [
    "##### Total Number of Containers\n",
    "- Get the number of rows\n",
    "- Display the number of rows"
   ]
  },
  {
   "cell_type": "code",
   "execution_count": 25,
   "id": "e8e79826-fd94-4cf0-b4ee-77c227196ff0",
   "metadata": {},
   "outputs": [
    {
     "name": "stdout",
     "output_type": "stream",
     "text": [
      "49 Total Containers\n",
      "7 New Containers from Last Week\n",
      "1 Milk Run Consolidation Containers\n"
     ]
    }
   ],
   "source": [
    "# Number of New Containers\n",
    "df_new_columns = df3[df3['New'] == 'Yes']\n",
    "# Number of Milk Run Containers\n",
    "df_mr = df3[df3['MR'] == 'Yes']\n",
    "# Get a dataframe for NA Columns\n",
    "df3_na = df3[df3['Waste_Type'] == 'NA']\n",
    "\n",
    "#filtered_rows = df3.loc[df3['column_name'].str.contains('partial_value', na=False)]\n",
    "\n",
    "# Get the Total Number of Rows\n",
    "n_rows = df3.shape[0]\n",
    "n_rows_new = df_new_columns.shape[0]\n",
    "n_rows_mr = df_mr.shape[0]\n",
    "n_rows_na = df_mr.shape[0]\n",
    "\n",
    "# Display the number of rows\n",
    "print(f\"{n_rows} Total Containers\")\n",
    "print(f\"{n_rows_new} New Containers from Last Week\")\n",
    "print(f\"{n_rows_mr} Milk Run Consolidation Containers\")"
   ]
  },
  {
   "cell_type": "markdown",
   "id": "3a933173-4ead-40a9-905e-f413ef2df9d3",
   "metadata": {},
   "source": [
    "##### Containers by BPO Grouping"
   ]
  },
  {
   "cell_type": "code",
   "execution_count": 26,
   "id": "cf857b4c-88e0-4435-8cbc-13d414610e3c",
   "metadata": {},
   "outputs": [
    {
     "data": {
      "text/html": [
       "<div>\n",
       "<style scoped>\n",
       "    .dataframe tbody tr th:only-of-type {\n",
       "        vertical-align: middle;\n",
       "    }\n",
       "\n",
       "    .dataframe tbody tr th {\n",
       "        vertical-align: top;\n",
       "    }\n",
       "\n",
       "    .dataframe thead th {\n",
       "        text-align: right;\n",
       "    }\n",
       "</style>\n",
       "<table border=\"1\" class=\"dataframe\">\n",
       "  <thead>\n",
       "    <tr style=\"text-align: right;\">\n",
       "      <th></th>\n",
       "      <th>Entry</th>\n",
       "      <th>Count</th>\n",
       "    </tr>\n",
       "  </thead>\n",
       "  <tbody>\n",
       "    <tr>\n",
       "      <th>0</th>\n",
       "      <td>NA</td>\n",
       "      <td>28</td>\n",
       "    </tr>\n",
       "    <tr>\n",
       "      <th>1</th>\n",
       "      <td>Hazardous Waste (WF)</td>\n",
       "      <td>10</td>\n",
       "    </tr>\n",
       "    <tr>\n",
       "      <th>2</th>\n",
       "      <td>Hazardous Waste (LDR)</td>\n",
       "      <td>6</td>\n",
       "    </tr>\n",
       "    <tr>\n",
       "      <th>3</th>\n",
       "      <td>Hazardous Waste (Lab Pack)</td>\n",
       "      <td>4</td>\n",
       "    </tr>\n",
       "    <tr>\n",
       "      <th>4</th>\n",
       "      <td>TSCA Waste</td>\n",
       "      <td>1</td>\n",
       "    </tr>\n",
       "  </tbody>\n",
       "</table>\n",
       "</div>"
      ],
      "text/plain": [
       "                        Entry  Count\n",
       "0                          NA     28\n",
       "1        Hazardous Waste (WF)     10\n",
       "2       Hazardous Waste (LDR)      6\n",
       "3  Hazardous Waste (Lab Pack)      4\n",
       "4                  TSCA Waste      1"
      ]
     },
     "execution_count": 26,
     "metadata": {},
     "output_type": "execute_result"
    }
   ],
   "source": [
    "# Different Waste Types in the \n",
    "df3_Waste_Type = find_unique_text_and_counts_2(df3, 'Waste_Type')\n",
    "df3_Waste_Type"
   ]
  },
  {
   "cell_type": "markdown",
   "id": "2d3bf76c-9fd9-474a-846b-c0fbfa3033af",
   "metadata": {},
   "source": [
    "##### Get a dataframe for NA Columns"
   ]
  },
  {
   "cell_type": "code",
   "execution_count": 27,
   "id": "4a6f4365-fb98-43ee-902a-6308317cb2a9",
   "metadata": {},
   "outputs": [],
   "source": [
    "# Save as Excel File\n",
    "#df3_na.to_excel('2024_01_01_90DS_NA.xlsx', index=False)"
   ]
  },
  {
   "cell_type": "markdown",
   "id": "fe585187-d0f3-4a5d-810f-94c602a80f39",
   "metadata": {},
   "source": [
    "##### Containers by Waste Group"
   ]
  },
  {
   "cell_type": "code",
   "execution_count": 28,
   "id": "a5d4c942-195f-4641-93e6-1c442553c593",
   "metadata": {},
   "outputs": [],
   "source": [
    "df3_Group = find_unique_text_and_counts_2(df3, 'Group')"
   ]
  },
  {
   "cell_type": "code",
   "execution_count": 29,
   "id": "4098d589-a0d9-4e04-878a-7f70c633e96b",
   "metadata": {},
   "outputs": [
    {
     "name": "stdout",
     "output_type": "stream",
     "text": [
      "  6  Group\n",
      " 38  WIWPS_ID\n",
      "  6  TSDF_ID\n",
      "  6  ACT_ID\n",
      "\n",
      " 27  WIWPS_Name\n",
      " 6  Shipping_Name\n",
      "  1  DOT_Name\n",
      "  3  DOT_Class\n",
      "  6  EPA_Waste_Code @ find_unique_text_and_counts_1\n",
      " 17  EPA_Waste_Code @ find_unique_text_and_counts_2\n"
     ]
    }
   ],
   "source": [
    "# Internal\n",
    "df3_Group = find_unique_text_and_counts_2(df3, 'Group')   # \n",
    "df3_WIWPS_ID = find_unique_text_and_counts_2(df3, 'WIWPS_ID') # \n",
    "df3_WIWPS_Name = find_unique_text_and_counts_1(df3, 'WIWPS_Name') # No Delimiter\n",
    "df3_WIWPS_Name2 = find_unique_text_and_counts_2(df3, 'WIWPS_Name') # \n",
    "\n",
    "# Shipping\n",
    "df3_TSDF_ID = find_unique_text_and_counts_2(df3, 'TSDF_ID') # \n",
    "df3_ACT_ID = find_unique_text_and_counts_2(df3, 'ACT_ID') # \n",
    "df3_Shipping_Name = find_unique_text_and_counts_1(df3, 'Shipping_Name') # No Delimiter\n",
    "df3_Shipping_Name2 = find_unique_text_and_counts_2(df3, 'Shipping_Name') # \n",
    "df3_DOT_Name = find_unique_text_and_counts_1(df3, 'DOT_Name') # \n",
    "df3_DOT_Class = find_unique_text_and_counts_2(df3, 'DOT_Class') # \n",
    "df3_EPA_Waste_Code = find_unique_text_and_counts_1(df3, 'EPA_Waste_Code') # \n",
    "df3_EPA_Waste_Code2 = find_unique_text_and_counts_2(df3, 'EPA_Waste_Code') # \n",
    "df3_TSDF = find_unique_text_and_counts_2(df3, 'TSDF') # Package  ID\n",
    "\n",
    "# Containers\n",
    "df3_DOT_Name = find_unique_text_and_counts_2(df3, 'Container_Size') # \n",
    "df3_Container_Cost = find_unique_text_and_counts_2(df3, 'Container_Cost') # \n",
    "df3_Container_Qty = find_unique_text_and_counts_2(df3, 'Container_Qty') # \n",
    "df3_Container_Mass = find_unique_text_and_counts_2(df3, 'Container_Mass') # \n",
    "\n",
    "print(' ',len(df3_Group), ' Group')\n",
    "print('',len(df3_WIWPS_ID), ' WIWPS_ID')\n",
    "print(' ',len(df3_TSDF_ID), ' TSDF_ID')\n",
    "print(' ',len(df3_ACT_ID), ' ACT_ID')\n",
    "print()\n",
    "print('',len(df3_WIWPS_Name), ' WIWPS_Name')\n",
    "print('',len(df3_Shipping_Name), ' Shipping_Name')\n",
    "print(' ',len(df3_DOT_Name),' DOT_Name')\n",
    "print(' ',len(df3_DOT_Class),' DOT_Class')\n",
    "print(' ',len(df3_EPA_Waste_Code),' EPA_Waste_Code @ find_unique_text_and_counts_1')\n",
    "print('',len(df3_EPA_Waste_Code2),' EPA_Waste_Code @ find_unique_text_and_counts_2')"
   ]
  },
  {
   "cell_type": "code",
   "execution_count": 30,
   "id": "fa51c916-038a-4cc2-b5c0-d772136f515c",
   "metadata": {},
   "outputs": [
    {
     "data": {
      "image/png": "[encoded data removed]",
      "text/plain": [
       "<Figure size 1200x400 with 1 Axes>"
      ]
     },
     "metadata": {},
     "output_type": "display_data"
    }
   ],
   "source": [
    "# Plot Results\n",
    "plot_horizontal_bar(df3_EPA_Waste_Code,\n",
    "                    'df3_EPA_Waste_Code', \n",
    "                    y_label='EPA_Waste_Code', \n",
    "                    figsize=(12,4), \n",
    "                    save_folder=None, \n",
    "                    file_name=None,\n",
    "                    display_plot=True)"
   ]
  },
  {
   "cell_type": "code",
   "execution_count": 31,
   "id": "a1aad373-a58c-482c-8be0-5cab3c6bb41f",
   "metadata": {},
   "outputs": [
    {
     "data": {
      "image/png": "[encoded data removed]",
      "text/plain": [
       "<Figure size 1200x400 with 1 Axes>"
      ]
     },
     "metadata": {},
     "output_type": "display_data"
    }
   ],
   "source": [
    "# Plot Results\n",
    "plot_horizontal_bar(df3_EPA_Waste_Code2,\n",
    "                    'df3_EPA_Waste_Code', \n",
    "                    y_label='EPA_Waste_Code', \n",
    "                    figsize=(12,4), \n",
    "                    save_folder=None, \n",
    "                    file_name=None,\n",
    "                    display_plot=True)"
   ]
  },
  {
   "cell_type": "code",
   "execution_count": 32,
   "id": "6544867d-7cd9-4f98-8c66-03e27680d26e",
   "metadata": {},
   "outputs": [],
   "source": [
    "# Identify rows with missing ID_2 values\n",
    "#missing_mask = df_hw['ACT_ID'].isna()  # Boolean mask for missing values\n",
    "#missing_rows = df_hw[missing_mask]  # Extract rows with missing ID_2"
   ]
  },
  {
   "cell_type": "code",
   "execution_count": 33,
   "id": "713a796b-434f-425a-9a42-1060e1ae98a2",
   "metadata": {},
   "outputs": [
    {
     "ename": "NameError",
     "evalue": "name 'halt' is not defined",
     "output_type": "error",
     "traceback": [
      "\u001b[1;31m---------------------------------------------------------------------------\u001b[0m",
      "\u001b[1;31mNameError\u001b[0m                                 Traceback (most recent call last)",
      "Cell \u001b[1;32mIn[33], line 1\u001b[0m\n\u001b[1;32m----> 1\u001b[0m halt\n",
      "\u001b[1;31mNameError\u001b[0m: name 'halt' is not defined"
     ]
    }
   ],
   "source": [
    "halt"
   ]
  },
  {
   "cell_type": "markdown",
   "id": "985d5595-5bf0-41ab-ba84-352e171e6dce",
   "metadata": {},
   "source": [
    "### Email Automation"
   ]
  },
  {
   "cell_type": "markdown",
   "id": "f89d8d27-1018-4d87-90af-0c0b185733d1",
   "metadata": {},
   "source": [
    "##### Recipients"
   ]
  },
  {
   "cell_type": "code",
   "execution_count": null,
   "id": "ba57b71e-cccd-4780-9802-421562b16a59",
   "metadata": {},
   "outputs": [],
   "source": [
    "# List of recipients \n",
    "# Store recipients in a CSV file or database for dynamic updates.\n",
    "recipients = [\"recipient1@gmail.com\", \n",
    "              \"recipient2@gmail.com\", \n",
    "              \"recipient3@gmail.com\"]"
   ]
  },
  {
   "cell_type": "markdown",
   "id": "2ca48485-c787-43b6-964f-f26e4a966d2c",
   "metadata": {},
   "source": [
    "##### Subject and Content"
   ]
  },
  {
   "cell_type": "code",
   "execution_count": null,
   "id": "93ed7765-7d98-4415-bb82-e145665fb1cb",
   "metadata": {},
   "outputs": [],
   "source": [
    "# Subject and content for the email\n",
    "subject = \"Automated Statistics Report\"\n",
    "plain_text_content = f\"\"\"\n",
    "\n",
    "Hello,\n",
    "\n",
    "Here are the key statistics from the analysis:\n",
    "- Total: {total}\n",
    "- Average: {average}\n",
    "- Max: {max_value}\n",
    "- Min: {min_value}\n",
    "\n",
    "Best regards,\n",
    "Your Automation Script\n",
    "\"\"\""
   ]
  },
  {
   "cell_type": "markdown",
   "id": "face5c9d-5982-4331-9a10-d465ca9a84a0",
   "metadata": {},
   "source": [
    "##### HTML Code"
   ]
  },
  {
   "cell_type": "code",
   "execution_count": null,
   "id": "cc8358ba-bd08-4d12-b05e-e52baf46ccd0",
   "metadata": {},
   "outputs": [],
   "source": [
    "# HTML Code\n",
    "html_content = f\"\"\"\n",
    "<html>\n",
    "    <body>\n",
    "        <h3>Key Statistics:</h3>\n",
    "        <ul>\n",
    "            <li><b>Total:</b> {total}</li>\n",
    "            <li><b>Average:</b> {average}</li>\n",
    "            <li><b>Max:</b> {max_value}</li>\n",
    "            <li><b>Min:</b> {min_value}</li>\n",
    "        </ul>\n",
    "        <p>Automated by your Python script!</p>\n",
    "    </body>\n",
    "</html>\n",
    "\"\"\""
   ]
  },
  {
   "cell_type": "markdown",
   "id": "c4719f60-8d85-4910-9eda-9f9d20381d14",
   "metadata": {},
   "source": [
    "##### Send email to each recipient"
   ]
  },
  {
   "cell_type": "code",
   "execution_count": null,
   "id": "db8ec960-7c31-4c71-aaa0-847e3f849bca",
   "metadata": {},
   "outputs": [],
   "source": [
    "# Send email to each recipient\n",
    "for recipient in recipients:\n",
    "    send_email(sender_email, recipient, password, \n",
    "               smtp_server, smtp_port, subject, \n",
    "               plain_text_content, html_content)"
   ]
  },
  {
   "cell_type": "markdown",
   "id": "65bb99f7-0d9d-44ca-828f-96f5ac498251",
   "metadata": {},
   "source": [
    "Use Environment Variables for Security"
   ]
  },
  {
   "cell_type": "code",
   "execution_count": null,
   "id": "e0807f74-4ef2-4ae8-b8bf-6aa0cb5ce93b",
   "metadata": {},
   "outputs": [],
   "source": []
  },
  {
   "cell_type": "code",
   "execution_count": null,
   "id": "0bcd8f48-aa10-4e12-980c-94b4e84f3945",
   "metadata": {},
   "outputs": [],
   "source": [
    "Track Email Delivery"
   ]
  },
  {
   "cell_type": "code",
   "execution_count": null,
   "id": "4c0ac147-a453-43a2-a963-c3c30bde34f7",
   "metadata": {},
   "outputs": [],
   "source": [
    "import logging\n",
    "logging.basicConfig(filename=\"email_log.txt\", level=logging.INFO)"
   ]
  },
  {
   "cell_type": "markdown",
   "id": "061bb674-3464-4e29-819e-3cf32eced94e",
   "metadata": {},
   "source": [
    "### Automate Execution (Optional)"
   ]
  },
  {
   "cell_type": "code",
   "execution_count": null,
   "id": "f856e6ca-4d29-45ff-a9b0-5db482100a32",
   "metadata": {},
   "outputs": [],
   "source": [
    "# Step 5: Automate Execution (Optional)\n",
    "# Convert this notebook to a script for automation.\n",
    "# Use nbconvert to create a Python script version of this notebook.\n",
    "\n",
    "# Run this command in the terminal or as a cell magic\n",
    "#!jupyter nbconvert --to script your_notebook_name.ipynb\n",
    "\n",
    "# The output file will be your_notebook_name.py\n",
    "# Use Task Scheduler (Windows) or Cron (Linux/Mac) to run the script periodically."
   ]
  }
 ],
 "metadata": {
  "kernelspec": {
   "display_name": "Python 3 (ipykernel)",
   "language": "python",
   "name": "python3"
  },
  "language_info": {
   "codemirror_mode": {
    "name": "ipython",
    "version": 3
   },
   "file_extension": ".py",
   "mimetype": "text/x-python",
   "name": "python",
   "nbconvert_exporter": "python",
   "pygments_lexer": "ipython3",
   "version": "3.11.7"
  }
 },
 "nbformat": 4,
 "nbformat_minor": 5
}
