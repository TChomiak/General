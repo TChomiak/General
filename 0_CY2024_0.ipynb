{
 "cells": [
  {
   "cell_type": "code",
   "execution_count": 1,
   "id": "b89a8110-02bd-47b0-8958-c8395d517d18",
   "metadata": {},
   "outputs": [],
   "source": [
    "from Notebook_Utilities import *"
   ]
  },
  {
   "cell_type": "code",
   "execution_count": 2,
   "id": "2f816af5-30eb-4161-9df6-dcfc44d3ced2",
   "metadata": {},
   "outputs": [],
   "source": [
    "# Load and clean data\n",
    "df = load_and_clean_data('0_CY2024_Waste_Streams_0.xlsx', '2024_Shipping')\n",
    "\n",
    "# Fix Typo\n",
    "df = df.replace(\"ReCYcling\", \"Recycling\")\n",
    "\n",
    "# Density (kg/gallon)\n",
    "df['Density_kg_per_gal'] = df['Container_Mass'] / (df['Container_Size'] * df['Container_Qty'])\n",
    "\n",
    "# Average Mass per Container (kg/container)\n",
    "df['Avg_Mass_per_Container'] = df['Container_Mass'] / df['Container_Qty']\n",
    "\n",
    "# Volume per Container (gallons/container)\n",
    "df['Volume_per_Container'] = df['Container_Size']  # Since this is already per container\n",
    "\n",
    "# Total Volume (gallons)\n",
    "df['Total_Volume_gallons'] = df['Container_Size'] * df['Container_Qty']\n",
    "\n",
    "# Mass-to-Volume Ratio (kg/gallon, total volume basis)\n",
    "df['Mass_to_Volume_Ratio'] = df['Container_Mass'] / df['Total_Volume_gallons']\n",
    "\n",
    "# Specific Mass Index (kg/container per gallon)\n",
    "df['Specific_Mass_Index'] = df['Container_Mass'] / (df['Container_Qty'] * df['Container_Size'])"
   ]
  },
  {
   "cell_type": "markdown",
   "id": "69b8a410-dce0-4c05-8b41-cdbf0d0ab01a",
   "metadata": {},
   "source": [
    "##### Map "
   ]
  },
  {
   "cell_type": "code",
   "execution_count": 3,
   "id": "9d8ef77a-e457-4d0a-a526-b60b23468ed7",
   "metadata": {},
   "outputs": [],
   "source": [
    "# Import BPO (ACT) Dataset\n",
    "df1 = load_and_clean_data('0_CY2024_BPO.xlsx', 'Main')\n",
    "\n",
    "# Ensure the column is treated as strings/text\n",
    "df1['WIWPS_ID'] = df1['WIWPS_ID'].astype(str).str.strip()\n",
    "df1['WIWPS_Name'] = df1['WIWPS_Name'].astype(str).str.strip()\n",
    "# Ensure the column is treated as strings/text and remove \".0\"\n",
    "df1['TSDF_ID'] = df1['TSDF_ID'].astype(str).str.strip().str.replace(r'\\.0$', '', regex=True)\n",
    "df1['ACT_ID'] = df1['ACT_ID'].astype(str).str.strip().str.replace(r'\\.0$', '', regex=True)\n",
    "df1['DOT_Class'] = df1['DOT_Class'].astype(str).str.strip().str.replace(r'\\.0$', '', regex=True)\n",
    "\n",
    "# Add Column\n",
    "df1['Container_Cost'] = np.nan"
   ]
  },
  {
   "cell_type": "code",
   "execution_count": 4,
   "id": "1f390635-92dd-4679-86ac-03455e0c020b",
   "metadata": {},
   "outputs": [],
   "source": [
    "# Connecting WIWPS to Shipping Information\n",
    "def map_and_add_columns_with_multiple_matches(\n",
    "    df_1, df_2, column_to_map, mapping_column, columns_to_add, match_values=None, delimiter_pattern=r\"[,\\s]+\"\n",
    "):\n",
    "    \"\"\"\n",
    "    Matches single or multiple entries in df_2[column_to_map] against multiple entries in df_1[mapping_column],\n",
    "    and pulls specific columns from df_1 into df_2 while preserving df_2's rows.\n",
    "\n",
    "    Parameters:\n",
    "        df_1 (pd.DataFrame): The source DataFrame containing rows to pull columns from.\n",
    "        df_2 (pd.DataFrame): The target DataFrame where new columns will be added.\n",
    "        column_to_map (str): Column in df_2 to match against df_1[mapping_column].\n",
    "        mapping_column (str): Column in df_1 containing single or multiple comma-separated entries.\n",
    "        columns_to_add (list): List of column names from df_1 to add to df_2.\n",
    "        match_values (list, optional): A list of values in df_2[column_to_map] to match.\n",
    "        delimiter_pattern (str): Regex pattern to split multiple entries in df_1.\n",
    "\n",
    "    Returns:\n",
    "        pd.DataFrame: The updated df_2 with specified columns added.\n",
    "    \"\"\"\n",
    "    # Preprocess df_1 to split mapping_column into multiple rows for matching\n",
    "    expanded_df_1 = (\n",
    "        df_1.assign(Expanded_ID=df_1[mapping_column].str.split(delimiter_pattern))\n",
    "        .explode(\"Expanded_ID\")\n",
    "        .dropna(subset=[\"Expanded_ID\"])\n",
    "    )\n",
    "    expanded_df_1[\"Expanded_ID\"] = expanded_df_1[\"Expanded_ID\"].str.strip()\n",
    "\n",
    "    # Create a mapping dictionary for each column to add\n",
    "    mapping_dicts = {\n",
    "        col: expanded_df_1.set_index(\"Expanded_ID\")[col].to_dict() for col in columns_to_add\n",
    "    }\n",
    "\n",
    "    # Filter df_2 based on match_values if provided\n",
    "    if match_values:\n",
    "        df_2 = df_2[df_2[column_to_map].isin(match_values)]\n",
    "\n",
    "    # Add new columns to df_2\n",
    "    for col in columns_to_add:\n",
    "        df_2[col] = df_2[column_to_map].map(mapping_dicts[col]).fillna(\"NA\")\n",
    "\n",
    "    return df_2"
   ]
  },
  {
   "cell_type": "code",
   "execution_count": 5,
   "id": "74667973-e74c-4d6f-8825-f5056f4c1298",
   "metadata": {},
   "outputs": [],
   "source": [
    "# Columns to pull from df_1 and add to df_2\n",
    "columns_to_add=[\"PO\", \"ACT_ID\"]\n",
    "\n",
    "# Apply Function\n",
    "df = map_and_add_columns_with_multiple_matches(\n",
    "    df1, # Historical DataFrame                  \n",
    "    df, # New DataFrame\n",
    "    column_to_map=\"WIWPS_ID\", # Column in df_2 to match against df_1\n",
    "    mapping_column=\"WIWPS_ID\", # Dynamic creation of mapping dictionary\n",
    "    columns_to_add=columns_to_add,\n",
    "    delimiter_pattern=r\"[,\\s]+\"\n",
    ")\n",
    "\n",
    "# Add Column\n",
    "df['Container_Cost'] = np.nan"
   ]
  },
  {
   "cell_type": "code",
   "execution_count": 10,
   "id": "ad443df0-bb83-42ab-aa16-3f2a8c8a4185",
   "metadata": {},
   "outputs": [
    {
     "name": "stdout",
     "output_type": "stream",
     "text": [
      "  15  Group\n",
      " 98  WIWPS_ID\n",
      "  37  TSDF_ID\n",
      "  24  ACT_ID\n",
      "\n",
      " 45  WIWPS_Name\n",
      " 82  Shipping_Name\n",
      "  17  DOT_Name\n",
      "  12  DOT_Class\n",
      "  47  EPA_Waste_Code @ find_unique_text_and_counts_1\n",
      " 28  EPA_Waste_Code @ find_unique_text_and_counts_2\n"
     ]
    }
   ],
   "source": [
    "# Internal\n",
    "df_WIWPS_ID = find_unique_text_and_counts_2(df, 'WIWPS_ID') # \n",
    "df_WIWPS_Name = find_unique_text_and_counts_1(df, 'WIWPS_Name') # No Delimiter\n",
    "df_WIWPS_Name2 = find_unique_text_and_counts_2(df, 'WIWPS_Name') # \n",
    "df_Group = find_unique_text_and_counts_2(df, 'Group') \n",
    "df_Waste_Type = find_unique_text_and_counts_2(df, 'Waste_Type') \n",
    "\n",
    "# Shipping\n",
    "df_TSDF_ID = find_unique_text_and_counts_2(df, 'TSDF_ID') # \n",
    "df_ACT_ID = find_unique_text_and_counts_2(df, 'ACT_ID') # \n",
    "df_Shipping_Name = find_unique_text_and_counts_1(df, 'Shipping_Name') # No Delimiter\n",
    "df_Shipping_Name2 = find_unique_text_and_counts_2(df, 'Shipping_Name') # \n",
    "df_DOT_Name = find_unique_text_and_counts_1(df, 'DOT_Name') # \n",
    "df_DOT_Class = find_unique_text_and_counts_2(df, 'DOT_Class') # \n",
    "df_EPA_Waste_Code1 = find_unique_text_and_counts_1(df, 'EPA_Waste_Code') # \n",
    "df_EPA_Waste_Code2 = find_unique_text_and_counts_2(df, 'EPA_Waste_Code') # \n",
    "df_TSDF = find_unique_text_and_counts_2(df, 'TSDF') # \n",
    "\n",
    "# Containers\n",
    "df_DOT_Name = find_unique_text_and_counts_2(df, 'Container_Size') # \n",
    "df_Container_Cost = find_unique_text_and_counts_2(df, 'Container_Cost') # \n",
    "df_Container_Qty = find_unique_text_and_counts_2(df, 'Container_Qty') # \n",
    "df_Container_Mass = find_unique_text_and_counts_2(df, 'Container_Mass') # \n",
    "\n",
    "print(' ',len(df_Group), ' Group')\n",
    "print('',len(df_WIWPS_ID), ' WIWPS_ID')\n",
    "print(' ',len(df_TSDF_ID), ' TSDF_ID')\n",
    "print(' ',len(df_ACT_ID), ' ACT_ID')\n",
    "print()\n",
    "print('',len(df_WIWPS_Name), ' WIWPS_Name')\n",
    "print('',len(df_Shipping_Name), ' Shipping_Name')\n",
    "print(' ',len(df_DOT_Name),' DOT_Name')\n",
    "print(' ',len(df_DOT_Class),' DOT_Class')\n",
    "print(' ',len(df_EPA_Waste_Code),' EPA_Waste_Code @ find_unique_text_and_counts_1')\n",
    "print('',len(df_EPA_Waste_Code2),' EPA_Waste_Code @ find_unique_text_and_counts_2')"
   ]
  },
  {
   "cell_type": "code",
   "execution_count": 11,
   "id": "f37ae00f-2a19-4e77-a29f-92e83d11e39b",
   "metadata": {},
   "outputs": [
    {
     "data": {
      "text/html": [
       "<div>\n",
       "<style scoped>\n",
       "    .dataframe tbody tr th:only-of-type {\n",
       "        vertical-align: middle;\n",
       "    }\n",
       "\n",
       "    .dataframe tbody tr th {\n",
       "        vertical-align: top;\n",
       "    }\n",
       "\n",
       "    .dataframe thead th {\n",
       "        text-align: right;\n",
       "    }\n",
       "</style>\n",
       "<table border=\"1\" class=\"dataframe\">\n",
       "  <thead>\n",
       "    <tr style=\"text-align: right;\">\n",
       "      <th></th>\n",
       "      <th>Entry</th>\n",
       "      <th>Count</th>\n",
       "    </tr>\n",
       "  </thead>\n",
       "  <tbody>\n",
       "    <tr>\n",
       "      <th>0</th>\n",
       "      <td>Veolia ES Technical Solutions LLC.</td>\n",
       "      <td>124</td>\n",
       "    </tr>\n",
       "    <tr>\n",
       "      <th>1</th>\n",
       "      <td>US Ecology Nevada Inc.</td>\n",
       "      <td>54</td>\n",
       "    </tr>\n",
       "    <tr>\n",
       "      <th>2</th>\n",
       "      <td>Veolia Environmental Services</td>\n",
       "      <td>38</td>\n",
       "    </tr>\n",
       "    <tr>\n",
       "      <th>3</th>\n",
       "      <td>Stericycle Inc.</td>\n",
       "      <td>5</td>\n",
       "    </tr>\n",
       "    <tr>\n",
       "      <th>4</th>\n",
       "      <td>South Central Solid Waste Authority</td>\n",
       "      <td>5</td>\n",
       "    </tr>\n",
       "    <tr>\n",
       "      <th>5</th>\n",
       "      <td>Advanced Chemical Treatment</td>\n",
       "      <td>4</td>\n",
       "    </tr>\n",
       "    <tr>\n",
       "      <th>6</th>\n",
       "      <td>W. Silver ReCYcling Inc.</td>\n",
       "      <td>4</td>\n",
       "    </tr>\n",
       "    <tr>\n",
       "      <th>7</th>\n",
       "      <td>150 Yard</td>\n",
       "      <td>1</td>\n",
       "    </tr>\n",
       "    <tr>\n",
       "      <th>8</th>\n",
       "      <td>Mesa Oil</td>\n",
       "      <td>1</td>\n",
       "    </tr>\n",
       "  </tbody>\n",
       "</table>\n",
       "</div>"
      ],
      "text/plain": [
       "                                 Entry  Count\n",
       "0   Veolia ES Technical Solutions LLC.    124\n",
       "1               US Ecology Nevada Inc.     54\n",
       "2        Veolia Environmental Services     38\n",
       "3                      Stericycle Inc.      5\n",
       "4  South Central Solid Waste Authority      5\n",
       "5          Advanced Chemical Treatment      4\n",
       "6             W. Silver ReCYcling Inc.      4\n",
       "7                             150 Yard      1\n",
       "8                             Mesa Oil      1"
      ]
     },
     "execution_count": 11,
     "metadata": {},
     "output_type": "execute_result"
    }
   ],
   "source": [
    "df_TSDF"
   ]
  },
  {
   "cell_type": "markdown",
   "id": "ff248cfb-200a-4d58-a985-90eff86c4470",
   "metadata": {},
   "source": [
    "##### EPA Waste Code Frequency"
   ]
  },
  {
   "cell_type": "code",
   "execution_count": 12,
   "id": "f2ba915e-3ae7-4940-98cd-44fc12d4a13d",
   "metadata": {},
   "outputs": [
    {
     "ename": "TypeError",
     "evalue": "plot_horizontal_bar() got an unexpected keyword argument 'display_plot'",
     "output_type": "error",
     "traceback": [
      "\u001b[1;31m---------------------------------------------------------------------------\u001b[0m",
      "\u001b[1;31mTypeError\u001b[0m                                 Traceback (most recent call last)",
      "\u001b[1;32m~\\AppData\\Local\\Temp\\ipykernel_1792\\706371377.py\u001b[0m in \u001b[0;36m<module>\u001b[1;34m\u001b[0m\n\u001b[0;32m      1\u001b[0m \u001b[1;31m# Plot Results\u001b[0m\u001b[1;33m\u001b[0m\u001b[1;33m\u001b[0m\u001b[1;33m\u001b[0m\u001b[0m\n\u001b[1;32m----> 2\u001b[1;33m plot_horizontal_bar(df_EPA_Waste_Code1,\n\u001b[0m\u001b[0;32m      3\u001b[0m                     \u001b[1;34m'EPA Code Frequency'\u001b[0m\u001b[1;33m,\u001b[0m\u001b[1;33m\u001b[0m\u001b[1;33m\u001b[0m\u001b[0m\n\u001b[0;32m      4\u001b[0m                     \u001b[0my_label\u001b[0m\u001b[1;33m=\u001b[0m\u001b[1;34m'EPA Codes'\u001b[0m\u001b[1;33m,\u001b[0m\u001b[1;33m\u001b[0m\u001b[1;33m\u001b[0m\u001b[0m\n\u001b[0;32m      5\u001b[0m                     \u001b[0mfigsize\u001b[0m\u001b[1;33m=\u001b[0m\u001b[1;33m(\u001b[0m\u001b[1;36m6\u001b[0m\u001b[1;33m,\u001b[0m\u001b[1;36m9\u001b[0m\u001b[1;33m)\u001b[0m\u001b[1;33m,\u001b[0m\u001b[1;33m\u001b[0m\u001b[1;33m\u001b[0m\u001b[0m\n",
      "\u001b[1;31mTypeError\u001b[0m: plot_horizontal_bar() got an unexpected keyword argument 'display_plot'"
     ]
    }
   ],
   "source": [
    "# Plot Results\n",
    "plot_horizontal_bar(df_EPA_Waste_Code1,\n",
    "                    'EPA Code Frequency', \n",
    "                    y_label='EPA Codes', \n",
    "                    figsize=(6,9), \n",
    "                    save_folder=\"TC_CY_2024\", \n",
    "                    file_name=\"CY_2024_HW_Frequency_EPA_Codes.png\",\n",
    "                    display_plot=False)"
   ]
  },
  {
   "cell_type": "code",
   "execution_count": 13,
   "id": "6859c27c-4c6e-4a8a-81e6-e420ac86921a",
   "metadata": {},
   "outputs": [
    {
     "ename": "NameError",
     "evalue": "name 'find_unique_text_and_counts' is not defined",
     "output_type": "error",
     "traceback": [
      "\u001b[1;31m---------------------------------------------------------------------------\u001b[0m",
      "\u001b[1;31mNameError\u001b[0m                                 Traceback (most recent call last)",
      "\u001b[1;32m~\\AppData\\Local\\Temp\\ipykernel_1792\\658712911.py\u001b[0m in \u001b[0;36m<module>\u001b[1;34m\u001b[0m\n\u001b[0;32m      1\u001b[0m \u001b[1;31m# Container Volume\u001b[0m\u001b[1;33m\u001b[0m\u001b[1;33m\u001b[0m\u001b[1;33m\u001b[0m\u001b[0m\n\u001b[1;32m----> 2\u001b[1;33m \u001b[0mresults\u001b[0m \u001b[1;33m=\u001b[0m \u001b[0mfind_unique_text_and_counts\u001b[0m\u001b[1;33m(\u001b[0m\u001b[0mdf_hw\u001b[0m\u001b[1;33m,\u001b[0m \u001b[1;34m'Container_Group'\u001b[0m\u001b[1;33m)\u001b[0m\u001b[1;33m\u001b[0m\u001b[1;33m\u001b[0m\u001b[0m\n\u001b[0m\u001b[0;32m      3\u001b[0m \u001b[1;31m# Plot Results\u001b[0m\u001b[1;33m\u001b[0m\u001b[1;33m\u001b[0m\u001b[1;33m\u001b[0m\u001b[0m\n\u001b[0;32m      4\u001b[0m \u001b[1;31m# Plot Results\u001b[0m\u001b[1;33m\u001b[0m\u001b[1;33m\u001b[0m\u001b[1;33m\u001b[0m\u001b[0m\n\u001b[0;32m      5\u001b[0m plot_horizontal_bar(results,'Frequency of Container Volumes', \n",
      "\u001b[1;31mNameError\u001b[0m: name 'find_unique_text_and_counts' is not defined"
     ]
    }
   ],
   "source": [
    "# Container Volume\n",
    "results = find_unique_text_and_counts(df_hw, 'Container_Group')\n",
    "# Plot Results\n",
    "# Plot Results\n",
    "plot_horizontal_bar(results,'Frequency of Container Volumes', \n",
    "                    y_label='V [Gal]', \n",
    "                    figsize=(9,6), \n",
    "                    save_folder=\"TC_CY_2024\", \n",
    "                    file_name=\"CY_2024_HW_Frequency_Container_Group.png\",\n",
    "                    display_plot=False)"
   ]
  },
  {
   "cell_type": "code",
   "execution_count": null,
   "id": "7ecc9c84-24c6-4184-a5c8-7a3c9bfa9dc5",
   "metadata": {},
   "outputs": [],
   "source": [
    "df_Waste_Type"
   ]
  },
  {
   "cell_type": "markdown",
   "id": "183e3376-a75f-4213-a7d0-836732f6e9f3",
   "metadata": {},
   "source": [
    "### BPO Grouping"
   ]
  },
  {
   "cell_type": "code",
   "execution_count": null,
   "id": "3246590f-8ceb-45df-af54-b57130846687",
   "metadata": {},
   "outputs": [],
   "source": [
    "# Organize Dataframes by Type\n",
    "df_ldr = df[df['Type'] == 'Hazardous (LDR)'] # LDR, US Ecology Nevada Inc.\n",
    "df_lp = df[df['Type'] == 'Hazardous (Lab Pack)'] # Lab Pack, Veolia ES Technical Solutions.\n",
    "df_wf = df[df['Type'] == 'Hazardous (Waste Fuel)'] # Waste Fuel, Veolia ES Technical Solutions\n",
    "df_act = df[df['Type'] == 'Hazardous (ACT)'] # Miscellaneous\n",
    "df_hw = pd.concat([df_ldr, df_lp, df_wf, df_act]) # Combine Hazardous Waste Data Frames\n",
    "df_uw = df[df['Type'] == 'Universal'] # Universal Waste\n",
    "df_tsca = df[df['Type'] == 'TSCA'] # Universal Waste\n",
    "\n",
    "# Total Waste [kg]\n",
    "qty_kg_sum_hw = df_hw['QTY_kg'].sum()\n",
    "print(f\"Total Exported Hazardous Waste: {qty_kg_sum_hw:.0f} [kg]\")\n",
    "\n",
    "# Total Waste [lbs]\n",
    "hw_lbs = unit_conversion(qty_kg_sum_hw, 'kg', 'lbs') # kg to lb\n",
    "print(f\"Total Exported Hazardous Waste: {hw_lbs:.0f} [lbs]\")\n",
    "\n",
    "# HW Containers\n",
    "N_Containers_hw = df_hw['Container_QTY'].sum()\n",
    "print(f\"Total Exported Containers: {N_Containers_hw:.0f}\")\n",
    "print()\n",
    "\n",
    "# Universal Containers\n",
    "N_Containers_uw = df_uw['Container_QTY'].sum()\n",
    "print(f\"Total Exported Containers: {N_Containers_hw:.0f}\")\n",
    "print()\n",
    "\n",
    "# TSCA Containers\n",
    "N_Containers_tsca = df_tsca['Container_QTY'].sum()\n",
    "print(f\"Total Exported Containers: {N_Containers_hw:.0f}\")\n",
    "print()"
   ]
  },
  {
   "cell_type": "code",
   "execution_count": null,
   "id": "bbe20574-62d8-4406-8e04-9af39dd5bdf1",
   "metadata": {},
   "outputs": [],
   "source": [
    "# Show Sum of Quantities Shipped per Type\n",
    "dfg = groupby_function(df_hw, 'Type', weight_column='Container_Mass', sort=True)\n",
    "print('SUM =', dfg['Container_Mass'].sum(), '[kg]')\n",
    "dfg"
   ]
  },
  {
   "cell_type": "code",
   "execution_count": 10,
   "id": "85d2a69d-1e4e-4106-890e-9b98cd89566a",
   "metadata": {},
   "outputs": [
    {
     "ename": "NameError",
     "evalue": "name 'df_hw' is not defined",
     "output_type": "error",
     "traceback": [
      "\u001b[1;31m---------------------------------------------------------------------------\u001b[0m",
      "\u001b[1;31mNameError\u001b[0m                                 Traceback (most recent call last)",
      "\u001b[1;32m~\\AppData\\Local\\Temp\\ipykernel_2364\\183199645.py\u001b[0m in \u001b[0;36m<module>\u001b[1;34m\u001b[0m\n\u001b[0;32m      1\u001b[0m \u001b[1;31m# Show Sum of Quantities Shipped per Type\u001b[0m\u001b[1;33m\u001b[0m\u001b[1;33m\u001b[0m\u001b[1;33m\u001b[0m\u001b[0m\n\u001b[1;32m----> 2\u001b[1;33m \u001b[0mdfg\u001b[0m \u001b[1;33m=\u001b[0m \u001b[0mgroupby_function\u001b[0m\u001b[1;33m(\u001b[0m\u001b[0mdf_hw\u001b[0m\u001b[1;33m,\u001b[0m \u001b[1;34m'Type'\u001b[0m\u001b[1;33m,\u001b[0m \u001b[0mweight_column\u001b[0m\u001b[1;33m=\u001b[0m\u001b[1;34m'Container_Mass'\u001b[0m\u001b[1;33m,\u001b[0m \u001b[0msort\u001b[0m\u001b[1;33m=\u001b[0m\u001b[1;32mTrue\u001b[0m\u001b[1;33m)\u001b[0m\u001b[1;33m\u001b[0m\u001b[1;33m\u001b[0m\u001b[0m\n\u001b[0m\u001b[0;32m      3\u001b[0m \u001b[0mprint\u001b[0m\u001b[1;33m(\u001b[0m\u001b[1;34m'SUM ='\u001b[0m\u001b[1;33m,\u001b[0m \u001b[0mdfg\u001b[0m\u001b[1;33m[\u001b[0m\u001b[1;34m'Container_Qty'\u001b[0m\u001b[1;33m]\u001b[0m\u001b[1;33m.\u001b[0m\u001b[0msum\u001b[0m\u001b[1;33m(\u001b[0m\u001b[1;33m)\u001b[0m\u001b[1;33m,\u001b[0m \u001b[1;34m'[kg]'\u001b[0m\u001b[1;33m)\u001b[0m\u001b[1;33m\u001b[0m\u001b[1;33m\u001b[0m\u001b[0m\n\u001b[0;32m      4\u001b[0m \u001b[0mdfg\u001b[0m\u001b[1;33m\u001b[0m\u001b[1;33m\u001b[0m\u001b[0m\n",
      "\u001b[1;31mNameError\u001b[0m: name 'df_hw' is not defined"
     ]
    }
   ],
   "source": [
    "# Show Sum of Quantities Shipped per Type\n",
    "dfg = groupby_function(df_hw, 'Type', weight_column='Container_Mass', sort=True)\n",
    "print('SUM =', dfg['Container_Qty'].sum(), '[kg]')\n",
    "dfg"
   ]
  },
  {
   "cell_type": "code",
   "execution_count": null,
   "id": "fa182900-64ad-4ff3-aba3-dc5111d19359",
   "metadata": {},
   "outputs": [],
   "source": [
    "# Plot Results\n",
    "plot_horizontal_bar(df3_EPA_Waste_Code,\n",
    "                    'df3_EPA_Waste_Code', \n",
    "                    y_label='EPA_Waste_Code', \n",
    "                    figsize=(12,4), \n",
    "                    save_folder=None, \n",
    "                    file_name=None,\n",
    "                    display_plot=True)"
   ]
  },
  {
   "cell_type": "code",
   "execution_count": null,
   "id": "88d9c70b-b65b-469a-8c3f-ce09b806b835",
   "metadata": {},
   "outputs": [],
   "source": [
    "# Plot Results\n",
    "plot_horizontal_bar(df3_EPA_Waste_Code2,\n",
    "                    'df3_EPA_Waste_Code', \n",
    "                    y_label='EPA_Waste_Code', \n",
    "                    figsize=(12,4), \n",
    "                    save_folder=None, \n",
    "                    file_name=None,\n",
    "                    display_plot=True)"
   ]
  },
  {
   "cell_type": "code",
   "execution_count": null,
   "id": "94837f23-4817-4fb0-a1d1-7b569f82186f",
   "metadata": {},
   "outputs": [],
   "source": [
    "df_Waste_Type"
   ]
  },
  {
   "cell_type": "code",
   "execution_count": null,
   "id": "a2723490-c5ee-4fda-8583-8528def4e09c",
   "metadata": {},
   "outputs": [],
   "source": []
  },
  {
   "cell_type": "code",
   "execution_count": null,
   "id": "a22e3953-71a6-4f60-a45d-c9a9b2bdcdea",
   "metadata": {},
   "outputs": [],
   "source": []
  },
  {
   "cell_type": "markdown",
   "id": "652ce9af-3038-4c0b-b8d5-125e9619c340",
   "metadata": {},
   "source": [
    "### Monthly"
   ]
  },
  {
   "cell_type": "code",
   "execution_count": null,
   "id": "2887e663-bc6c-42eb-92c3-d2391f931d30",
   "metadata": {},
   "outputs": [],
   "source": [
    "# Aggregate waste by month\n",
    "monthly_totals = df_hw.groupby('Month')['QTY_kg'].sum()\n",
    "\n",
    "# Ensure 'monthly_totals' is a DataFrame with proper structure\n",
    "monthly_totals = monthly_totals.reset_index()\n",
    "\n",
    "# Map numerical months to month names\n",
    "month_labels = {1: 'January', 2: 'February', 3: 'March', \n",
    "                4: 'April', 5: 'May', 6: 'June',7: \n",
    "                'July', 8: 'August', 9: 'September', 10: \n",
    "                'October', 11: 'November', 12: 'December'}\n",
    "\n",
    "monthly_totals['Month_Name'] = monthly_totals['Month'].map(month_labels)\n",
    "\n",
    "# Dynamically scale the color intensity based on QTY_kg\n",
    "norm = plt.Normalize(monthly_totals['QTY_kg'].min(), monthly_totals['QTY_kg'].max())\n",
    "colors = sns.color_palette(\"coolwarm\", as_cmap=True)(norm(monthly_totals['QTY_kg']))\n",
    "\n",
    "# Plot the data without the color legend\n",
    "plt.figure(figsize=(9, 6))\n",
    "bars = plt.bar(monthly_totals['Month_Name'], monthly_totals['QTY_kg'], color=colors, edgecolor='black')\n",
    "\n",
    "# Add labels and customize the plot aesthetics\n",
    "plt.title('Monthly Hazardous Waste Totals', fontsize=18, pad=15)\n",
    "plt.xlabel('Month', fontsize=14, labelpad=10)\n",
    "plt.ylabel('Total Waste (kg)', fontsize=14, labelpad=15)\n",
    "plt.xticks(rotation=45, fontsize=12)\n",
    "plt.yticks(fontsize=12)\n",
    "\n",
    "# Add gridlines\n",
    "plt.grid(axis='y', linestyle='--', linewidth=0.5, alpha=0.7)\n",
    "\n",
    "output_folder = \"TC_CY_2024\" # Define the folder and file name\n",
    "file_name = \"CY_2024_HW_Monthly_Mass.png\"\n",
    "file_path = os.path.join(output_folder, file_name) # Construct the full file path\n",
    "plt.savefig(file_path, dpi=600, bbox_inches='tight')\n",
    "\n",
    "# Display the plot\n",
    "plt.tight_layout()\n",
    "plt.show()"
   ]
  },
  {
   "cell_type": "code",
   "execution_count": null,
   "id": "226e6478-b96b-467d-9ff4-7524ea554ce5",
   "metadata": {},
   "outputs": [],
   "source": [
    "#volume_counts = df_hw.groupby(['Month', 'Container_Volume']).size().reset_index(name='Count')\n",
    "#pivot_df = volume_counts.pivot(index='Month', columns='Container_Volume', values='Count').fillna(0)\n",
    "#pivot_df.plot(kind='bar', stacked=True, figsize=(10, 6), colormap='tab20')\n",
    "\n",
    "# Group by 'Month' and 'Container_Volume', then count occurrences\n",
    "volume_counts = df_hw.groupby(['Month', 'Container_Volume']).size().reset_index(name='Count')\n",
    "\n",
    "# Pivot data to prepare for plotting\n",
    "pivot_df = volume_counts.pivot(index='Month', columns='Container_Volume', values='Count').fillna(0)\n",
    "\n",
    "# Sort 'Container_Volume' (columns) in ascending order\n",
    "ordered_columns = sorted(pivot_df.columns)  # Sort container volumes numerically\n",
    "pivot_df = pivot_df[ordered_columns]\n",
    "\n",
    "# Normalize Container_Volume for Color Mapping\n",
    "norm = Normalize(vmin=min(ordered_columns), vmax=max(ordered_columns))  # Normalize volumes\n",
    "colors = [cm.coolwarm(norm(vol)) for vol in ordered_columns]  # Map each volume to a color\n",
    "\n",
    "# Plot Stacked Bar Chart with Custom Colors\n",
    "fig, ax = plt.subplots(figsize=(10, 6))\n",
    "pivot_df.plot(kind='bar', stacked=True, color=colors, edgecolor='black', ax=ax)\n",
    "\n",
    "# Customize Plot\n",
    "plt.title('Monthly Count of Container Volumes', fontsize=14)\n",
    "plt.xlabel('Month', fontsize=12)\n",
    "plt.ylabel('Number of Containers', fontsize=12)\n",
    "plt.xticks(rotation=45)\n",
    "plt.legend(title='Container Volume', bbox_to_anchor=(1.05, 1), loc='upper left')\n",
    "plt.tight_layout()\n",
    "\n",
    "# Save the Plot\n",
    "output_folder = \"TC_CY_2024\"\n",
    "file_name = \"CY_2024_HW_Monthly_Container_Volumes.png\"\n",
    "os.makedirs(output_folder, exist_ok=True)\n",
    "file_path = os.path.join(output_folder, file_name)\n",
    "plt.savefig(file_path, dpi=600, bbox_inches='tight')\n",
    "print(f\"Plot saved to: {file_path}\")\n",
    "\n",
    "# Show the Plot\n",
    "plt.show()"
   ]
  },
  {
   "cell_type": "code",
   "execution_count": null,
   "id": "72847ec1-0d76-4370-9934-4416cfce183a",
   "metadata": {},
   "outputs": [],
   "source": []
  },
  {
   "cell_type": "code",
   "execution_count": null,
   "id": "e2157e9a-f92a-498f-8ca9-0a81f2696d74",
   "metadata": {},
   "outputs": [],
   "source": []
  },
  {
   "cell_type": "code",
   "execution_count": null,
   "id": "65299e16-1369-4267-b997-0fcc84387f60",
   "metadata": {},
   "outputs": [],
   "source": []
  },
  {
   "cell_type": "code",
   "execution_count": null,
   "id": "7ba1b0e5-4449-4bcf-b16d-d54ccb36898d",
   "metadata": {},
   "outputs": [],
   "source": []
  }
 ],
 "metadata": {
  "kernelspec": {
   "display_name": "Python 3 (ipykernel)",
   "language": "python",
   "name": "python3"
  },
  "language_info": {
   "codemirror_mode": {
    "name": "ipython",
    "version": 3
   },
   "file_extension": ".py",
   "mimetype": "text/x-python",
   "name": "python",
   "nbconvert_exporter": "python",
   "pygments_lexer": "ipython3",
   "version": "3.8.10"
  }
 },
 "nbformat": 4,
 "nbformat_minor": 5
}
